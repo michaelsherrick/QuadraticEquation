{
 "cells": [
  {
   "cell_type": "code",
   "execution_count": 1,
   "metadata": {},
   "outputs": [],
   "source": [
    "def roots(a, b, c):\n",
    "    disc = b**2 - 4 * a * c\n",
    "    if(disc < 0):\n",
    "        print(\"Root is complex: \", end='')\n",
    "    return (-b + disc**0.5) / (2 * a), (-b - disc**0.5) / (2 * a)"
   ]
  },
  {
   "cell_type": "code",
   "execution_count": 2,
   "metadata": {},
   "outputs": [
    {
     "name": "stdout",
     "output_type": "stream",
     "text": [
      "(-1.0, -1.0)\n",
      "(-0.6666666666666666, -1.0)\n",
      "Root is complex: ((-0.29999999999999993+0.8426149773176359j), (-0.30000000000000004-0.8426149773176359j))\n",
      "Root is complex: ((0.4-0.2j), (0.4+0.2j))\n"
     ]
    }
   ],
   "source": [
    "print(roots(1, 2, 1))\n",
    "print(roots(3, 5, 2))\n",
    "print(roots(5, 3, 4))\n",
    "print(roots(-5, 4, -1))"
   ]
  },
  {
   "cell_type": "code",
   "execution_count": null,
   "metadata": {},
   "outputs": [],
   "source": []
  }
 ],
 "metadata": {
  "kernelspec": {
   "display_name": "Python 3",
   "language": "python",
   "name": "python3"
  },
  "language_info": {
   "codemirror_mode": {
    "name": "ipython",
    "version": 3
   },
   "file_extension": ".py",
   "mimetype": "text/x-python",
   "name": "python",
   "nbconvert_exporter": "python",
   "pygments_lexer": "ipython3",
   "version": "3.8.3"
  }
 },
 "nbformat": 4,
 "nbformat_minor": 4
}
